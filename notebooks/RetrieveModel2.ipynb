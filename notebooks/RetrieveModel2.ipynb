{
 "cells": [
  {
   "cell_type": "code",
   "execution_count": 1,
   "id": "bb9853e9",
   "metadata": {},
   "outputs": [],
   "source": [
    "from mlflow.tracking import MlflowClient\n",
    "from pprint import pprint\n",
    "import os"
   ]
  },
  {
   "cell_type": "markdown",
   "id": "ea92b806",
   "metadata": {},
   "source": [
    "### Retrieve a list of models"
   ]
  },
  {
   "cell_type": "code",
   "execution_count": 2,
   "id": "ae85a411",
   "metadata": {},
   "outputs": [
    {
     "name": "stdout",
     "output_type": "stream",
     "text": [
      "'ElasticnetWineModel'\n",
      "'/models/mlruns/0/a02efd60662a44b29ca485f407e7739e/artifacts/model'\n",
      "'demo2_survival5_lgbm'\n",
      "'/models/mlruns/0/1ccd4da3859245788280c6dc850b5faf/artifacts/demo2_survival5_lgbm'\n",
      "{'ElasticnetWineModel': '/models/mlruns/0/a02efd60662a44b29ca485f407e7739e/artifacts/model',\n",
      " 'demo2_survival5_lgbm': '/models/mlruns/0/1ccd4da3859245788280c6dc850b5faf/artifacts/demo2_survival5_lgbm'}\n"
     ]
    }
   ],
   "source": [
    "client = MlflowClient()\n",
    "models = {}\n",
    "for rm in client.list_registered_models():\n",
    "    mv = client.get_model_version(rm.name, 1)\n",
    "    models[mv.name] = mv.source\n",
    "    pprint(mv.name)\n",
    "    pprint(mv.source)\n",
    "pprint(models)"
   ]
  },
  {
   "cell_type": "code",
   "execution_count": 3,
   "id": "2281a91e",
   "metadata": {},
   "outputs": [
    {
     "name": "stdout",
     "output_type": "stream",
     "text": [
      "<RegisteredModel: creation_timestamp=1626260292811, description='', last_updated_timestamp=1626341836065, latest_versions=[<ModelVersion: creation_timestamp=1626341836065, current_stage='None', description='', last_updated_timestamp=1626341836065, name='ElasticnetWineModel', run_id='0456f2b4de8a4bbfaf9fe56cd066e52d', run_link='', source='/models/mlruns/0/0456f2b4de8a4bbfaf9fe56cd066e52d/artifacts/model', status='READY', status_message='', tags={}, user_id='', version='4'>], name='ElasticnetWineModel', tags={}>\n",
      "<RegisteredModel: creation_timestamp=1626253035650, description='', last_updated_timestamp=1626253035671, latest_versions=[<ModelVersion: creation_timestamp=1626253035671, current_stage='None', description='Demo model 2', last_updated_timestamp=1626341133300, name='demo2_survival5_lgbm', run_id='1ccd4da3859245788280c6dc850b5faf', run_link='', source='/models/mlruns/0/1ccd4da3859245788280c6dc850b5faf/artifacts/demo2_survival5_lgbm', status='READY', status_message='', tags={}, user_id='', version='1'>], name='demo2_survival5_lgbm', tags={}>\n"
     ]
    }
   ],
   "source": [
    "client = MlflowClient()\n",
    "for rm in client.list_registered_models():\n",
    "    pprint(rm)"
   ]
  },
  {
   "cell_type": "code",
   "execution_count": 4,
   "id": "3189af49",
   "metadata": {},
   "outputs": [
    {
     "name": "stdout",
     "output_type": "stream",
     "text": [
      "<class 'mlflow.entities.model_registry.registered_model.RegisteredModel'>\n"
     ]
    }
   ],
   "source": [
    "print(type(rm))"
   ]
  },
  {
   "cell_type": "code",
   "execution_count": null,
   "id": "a775b2d0",
   "metadata": {},
   "outputs": [
    {
     "name": "stdout",
     "output_type": "stream",
     "text": [
      "mlflow models serve -m /models/mlruns/0/bf2462293f184f838aba8ec5cb0b6f16/artifacts/model -p 1230 -h 0.0.0.0\n"
     ]
    },
    {
     "name": "stderr",
     "output_type": "stream",
     "text": [
      "2021/07/21 23:36:52 INFO mlflow.models.cli: Selected backend for flavor 'python_function'\n",
      "2021/07/21 23:36:55 INFO mlflow.utils.conda: === Creating conda environment mlflow-9d2a1ee3c57f0bf1832a8419798c0795b88942a0 ===\n"
     ]
    },
    {
     "name": "stdout",
     "output_type": "stream",
     "text": [
      "Collecting package metadata (repodata.json): ...working... done\n",
      "Solving environment: ...working... done\n",
      "\n",
      "Downloading and Extracting Packages\n",
      "openssl-1.1.1k       | 2.1 MB    | ########## | 100% \n",
      "python-3.6.13        | 38.4 MB   | ########## | 100% \n",
      "python_abi-3.6       | 4 KB      | ########## | 100% \n",
      "xz-5.2.5             | 343 KB    | ########## | 100% \n",
      "ld_impl_linux-64-2.3 | 668 KB    | ########## | 100% \n",
      "certifi-2021.5.30    | 141 KB    | ########## | 100% \n",
      "libgcc-ng-9.3.0      | 7.8 MB    | ########## | 100% \n",
      "ca-certificates-2021 | 136 KB    | ########## | 100% \n",
      "wheel-0.36.2         | 31 KB     | ########## | 100% \n",
      "_openmp_mutex-4.5    | 22 KB     | ########## | 100% \n",
      "ncurses-6.2          | 985 KB    | ########## | 100% \n",
      "_libgcc_mutex-0.1    | 3 KB      | ########## | 100% \n",
      "setuptools-49.6.0    | 936 KB    | ########## | 100% \n",
      "libgomp-9.3.0        | 376 KB    | ########## | 100% \n",
      "readline-8.1         | 295 KB    | ########## | 100% \n",
      "sqlite-3.36.0        | 1.4 MB    | ########## | 100% \n",
      "zlib-1.2.11          | 106 KB    | ########## | 100% \n",
      "libstdcxx-ng-9.3.0   | 4.0 MB    | ########## | 100% \n",
      "libffi-3.3           | 51 KB     | ########## | 100% \n",
      "tk-8.6.10            | 3.2 MB    | ########## | 100% \n",
      "pip-21.1.3           | 1.1 MB    | ########## | 100% \n",
      "Preparing transaction: ...working... done\n",
      "Verifying transaction: ...working... done\n",
      "Executing transaction: ...working... done\n",
      "Installing pip dependencies: ...working... Ran pip subprocess with arguments:\n",
      "['/usr/local/conda/envs/mlflow-9d2a1ee3c57f0bf1832a8419798c0795b88942a0/bin/python', '-m', 'pip', 'install', '-U', '-r', '/models/mlruns/0/bf2462293f184f838aba8ec5cb0b6f16/artifacts/model/condaenv.vwi0z4uf.requirements.txt']\n",
      "Pip subprocess output:\n",
      "Collecting mlflow\n",
      "  Using cached mlflow-1.19.0-py3-none-any.whl (14.4 MB)\n",
      "Collecting scikit-learn==0.23.2\n",
      "  Downloading scikit_learn-0.23.2-cp36-cp36m-manylinux1_x86_64.whl (6.8 MB)\n",
      "Collecting cloudpickle==1.6.0\n",
      "  Using cached cloudpickle-1.6.0-py3-none-any.whl (23 kB)\n",
      "Collecting joblib>=0.11\n",
      "  Using cached joblib-1.0.1-py3-none-any.whl (303 kB)\n",
      "Collecting scipy>=0.19.1\n",
      "  Downloading scipy-1.5.4-cp36-cp36m-manylinux1_x86_64.whl (25.9 MB)\n",
      "Collecting threadpoolctl>=2.0.0\n",
      "  Using cached threadpoolctl-2.2.0-py3-none-any.whl (12 kB)\n",
      "Collecting numpy>=1.13.3\n",
      "  Downloading numpy-1.19.5-cp36-cp36m-manylinux2010_x86_64.whl (14.8 MB)\n",
      "Collecting Flask\n",
      "  Using cached Flask-2.0.1-py3-none-any.whl (94 kB)\n",
      "Collecting pytz\n",
      "  Using cached pytz-2021.1-py2.py3-none-any.whl (510 kB)\n",
      "Collecting click>=7.0\n",
      "  Using cached click-8.0.1-py3-none-any.whl (97 kB)\n",
      "Collecting protobuf>=3.7.0\n",
      "  Downloading protobuf-3.17.3-cp36-cp36m-manylinux_2_5_x86_64.manylinux1_x86_64.whl (1.0 MB)\n",
      "Collecting prometheus-flask-exporter\n",
      "  Using cached prometheus_flask_exporter-0.18.2.tar.gz (22 kB)\n",
      "Collecting querystring-parser\n",
      "  Using cached querystring_parser-1.2.4-py2.py3-none-any.whl (7.9 kB)\n",
      "Collecting sqlalchemy\n",
      "  Downloading SQLAlchemy-1.4.21-cp36-cp36m-manylinux_2_5_x86_64.manylinux1_x86_64.manylinux_2_17_x86_64.manylinux2014_x86_64.whl (1.6 MB)\n",
      "Collecting gitpython>=2.1.0\n",
      "  Using cached GitPython-3.1.18-py3-none-any.whl (170 kB)\n",
      "Collecting packaging\n",
      "  Using cached packaging-21.0-py3-none-any.whl (40 kB)\n",
      "Collecting alembic<=1.4.1\n",
      "  Using cached alembic-1.4.1.tar.gz (1.1 MB)\n",
      "Collecting entrypoints\n",
      "  Using cached entrypoints-0.3-py2.py3-none-any.whl (11 kB)\n",
      "Collecting requests>=2.17.3\n",
      "  Using cached requests-2.26.0-py2.py3-none-any.whl (62 kB)\n",
      "Collecting docker>=4.0.0\n",
      "  Using cached docker-5.0.0-py2.py3-none-any.whl (146 kB)\n",
      "Collecting pandas\n",
      "  Downloading pandas-1.1.5-cp36-cp36m-manylinux1_x86_64.whl (9.5 MB)\n",
      "Collecting databricks-cli>=0.8.7\n",
      "  Using cached databricks-cli-0.14.3.tar.gz (54 kB)\n",
      "Collecting pyyaml>=5.1\n",
      "  Downloading PyYAML-5.4.1-cp36-cp36m-manylinux1_x86_64.whl (640 kB)\n",
      "Collecting gunicorn\n",
      "  Using cached gunicorn-20.1.0-py3-none-any.whl (79 kB)\n",
      "Collecting sqlparse>=0.3.1\n",
      "  Using cached sqlparse-0.4.1-py3-none-any.whl (42 kB)\n",
      "Collecting Mako\n",
      "  Using cached Mako-1.1.4-py2.py3-none-any.whl (75 kB)\n",
      "Collecting python-editor>=0.3\n",
      "  Using cached python_editor-1.0.4-py3-none-any.whl (4.9 kB)\n",
      "Collecting python-dateutil\n",
      "  Using cached python_dateutil-2.8.2-py2.py3-none-any.whl (247 kB)\n",
      "Collecting importlib-metadata\n",
      "  Downloading importlib_metadata-4.6.1-py3-none-any.whl (17 kB)\n",
      "Collecting tabulate>=0.7.7\n",
      "  Using cached tabulate-0.8.9-py3-none-any.whl (25 kB)\n",
      "Collecting six>=1.10.0\n",
      "  Using cached six-1.16.0-py2.py3-none-any.whl (11 kB)\n",
      "Collecting websocket-client>=0.32.0\n",
      "  Using cached websocket_client-1.1.0-py2.py3-none-any.whl (68 kB)\n",
      "Collecting gitdb<5,>=4.0.1\n",
      "  Using cached gitdb-4.0.7-py3-none-any.whl (63 kB)\n",
      "Collecting typing-extensions>=3.7.4.0\n",
      "  Downloading typing_extensions-3.10.0.0-py3-none-any.whl (26 kB)\n",
      "Collecting smmap<5,>=3.0.1\n",
      "  Using cached smmap-4.0.0-py2.py3-none-any.whl (24 kB)\n",
      "Collecting charset-normalizer~=2.0.0\n",
      "  Using cached charset_normalizer-2.0.3-py3-none-any.whl (35 kB)\n",
      "Collecting urllib3<1.27,>=1.21.1\n",
      "  Using cached urllib3-1.26.6-py2.py3-none-any.whl (138 kB)\n",
      "Collecting idna<4,>=2.5\n",
      "  Using cached idna-3.2-py3-none-any.whl (59 kB)\n",
      "Requirement already satisfied: certifi>=2017.4.17 in /usr/local/conda/envs/mlflow-9d2a1ee3c57f0bf1832a8419798c0795b88942a0/lib/python3.6/site-packages (from requests>=2.17.3->mlflow->-r /models/mlruns/0/bf2462293f184f838aba8ec5cb0b6f16/artifacts/model/condaenv.vwi0z4uf.requirements.txt (line 1)) (2021.5.30)\n",
      "Collecting greenlet!=0.4.17\n",
      "  Downloading greenlet-1.1.0-cp36-cp36m-manylinux_2_17_x86_64.manylinux2014_x86_64.whl (155 kB)\n",
      "Collecting Jinja2>=3.0\n",
      "  Using cached Jinja2-3.0.1-py3-none-any.whl (133 kB)\n",
      "Collecting itsdangerous>=2.0\n",
      "  Using cached itsdangerous-2.0.1-py3-none-any.whl (18 kB)\n",
      "Collecting Werkzeug>=2.0\n",
      "  Using cached Werkzeug-2.0.1-py3-none-any.whl (288 kB)\n",
      "Collecting MarkupSafe>=2.0\n",
      "  Downloading MarkupSafe-2.0.1-cp36-cp36m-manylinux2010_x86_64.whl (30 kB)\n",
      "Collecting dataclasses\n",
      "  Downloading dataclasses-0.8-py3-none-any.whl (19 kB)\n",
      "Requirement already satisfied: setuptools>=3.0 in /usr/local/conda/envs/mlflow-9d2a1ee3c57f0bf1832a8419798c0795b88942a0/lib/python3.6/site-packages (from gunicorn->mlflow->-r /models/mlruns/0/bf2462293f184f838aba8ec5cb0b6f16/artifacts/model/condaenv.vwi0z4uf.requirements.txt (line 1)) (49.6.0.post20210108)\n",
      "Collecting zipp>=0.5\n",
      "  Downloading zipp-3.5.0-py3-none-any.whl (5.7 kB)\n",
      "Collecting pyparsing>=2.0.2\n",
      "  Using cached pyparsing-2.4.7-py2.py3-none-any.whl (67 kB)\n",
      "Collecting prometheus_client\n",
      "  Using cached prometheus_client-0.11.0-py2.py3-none-any.whl (56 kB)\n",
      "Building wheels for collected packages: alembic, databricks-cli, prometheus-flask-exporter\n",
      "  Building wheel for alembic (setup.py): started\n",
      "  Building wheel for alembic (setup.py): finished with status 'done'\n",
      "  Created wheel for alembic: filename=alembic-1.4.1-py2.py3-none-any.whl size=158155 sha256=815c03aa4dd2f6b0b6be181b421d9c1f026c94d2b512d98d0d4c9e54df7379b9\n",
      "  Stored in directory: /root/.cache/pip/wheels/e9/7b/aa/e18c983d8236b141f85838ba0f8e4e4ae9bcf7f1e00ff726ec\n",
      "  Building wheel for databricks-cli (setup.py): started\n",
      "  Building wheel for databricks-cli (setup.py): finished with status 'done'\n",
      "  Created wheel for databricks-cli: filename=databricks_cli-0.14.3-py3-none-any.whl size=100555 sha256=b2f378e29d3efbcf53a7af03245ac51ad1708f5f03e22ede8fe6bdc652cdccdd\n",
      "  Stored in directory: /root/.cache/pip/wheels/ce/88/95/bd32d0e2dc0cf30e55574faab3118df2bb9ebebc60978c147b\n",
      "  Building wheel for prometheus-flask-exporter (setup.py): started\n",
      "  Building wheel for prometheus-flask-exporter (setup.py): finished with status 'done'\n",
      "  Created wheel for prometheus-flask-exporter: filename=prometheus_flask_exporter-0.18.2-py3-none-any.whl size=17399 sha256=b3f38d9b43f453972655e6028a058bf7abd5830e5a1f687e6b634efec9cf565f\n",
      "  Stored in directory: /root/.cache/pip/wheels/15/77/e8/3ca90b66243b0b58d5a5323a3da02cc8c5daf1de7a65141701\n",
      "Successfully built alembic databricks-cli prometheus-flask-exporter\n",
      "Installing collected packages: zipp, typing-extensions, MarkupSafe, importlib-metadata, dataclasses, Werkzeug, urllib3, smmap, six, Jinja2, itsdangerous, idna, greenlet, click, charset-normalizer, websocket-client, tabulate, sqlalchemy, requests, pytz, python-editor, python-dateutil, pyparsing, prometheus-client, numpy, Mako, gitdb, Flask, threadpoolctl, sqlparse, scipy, querystring-parser, pyyaml, protobuf, prometheus-flask-exporter, pandas, packaging, joblib, gunicorn, gitpython, entrypoints, docker, databricks-cli, cloudpickle, alembic, scikit-learn, mlflow\n",
      "Successfully installed Flask-2.0.1 Jinja2-3.0.1 Mako-1.1.4 MarkupSafe-2.0.1 Werkzeug-2.0.1 alembic-1.4.1 charset-normalizer-2.0.3 click-8.0.1 cloudpickle-1.6.0 databricks-cli-0.14.3 dataclasses-0.8 docker-5.0.0 entrypoints-0.3 gitdb-4.0.7 gitpython-3.1.18 greenlet-1.1.0 gunicorn-20.1.0 idna-3.2 importlib-metadata-4.6.1 itsdangerous-2.0.1 joblib-1.0.1 mlflow-1.19.0 numpy-1.19.5 packaging-21.0 pandas-1.1.5 prometheus-client-0.11.0 prometheus-flask-exporter-0.18.2 protobuf-3.17.3 pyparsing-2.4.7 python-dateutil-2.8.2 python-editor-1.0.4 pytz-2021.1 pyyaml-5.4.1 querystring-parser-1.2.4 requests-2.26.0 scikit-learn-0.23.2 scipy-1.5.4 six-1.16.0 smmap-4.0.0 sqlalchemy-1.4.21 sqlparse-0.4.1 tabulate-0.8.9 threadpoolctl-2.2.0 typing-extensions-3.10.0.0 urllib3-1.26.6 websocket-client-1.1.0 zipp-3.5.0\n",
      "\n",
      "done\n",
      "#\n",
      "# To activate this environment, use\n",
      "#\n",
      "#     $ conda activate mlflow-9d2a1ee3c57f0bf1832a8419798c0795b88942a0\n",
      "#\n",
      "# To deactivate an active environment, use\n",
      "#\n",
      "#     $ conda deactivate\n",
      "\n"
     ]
    },
    {
     "name": "stderr",
     "output_type": "stream",
     "text": [
      "2021/07/21 23:38:27 INFO mlflow.pyfunc.backend: === Running command 'source activate mlflow-9d2a1ee3c57f0bf1832a8419798c0795b88942a0 1>&2 && gunicorn --timeout=60 -b 0.0.0.0:1230 -w 1 ${GUNICORN_CMD_ARGS} -- mlflow.pyfunc.scoring_server.wsgi:app'\n",
      "[2021-07-21 23:38:27 +0100] [1335] [INFO] Starting gunicorn 20.1.0\n",
      "[2021-07-21 23:38:27 +0100] [1335] [INFO] Listening at: http://0.0.0.0:1230 (1335)\n",
      "[2021-07-21 23:38:27 +0100] [1335] [INFO] Using worker: sync\n",
      "[2021-07-21 23:38:27 +0100] [1349] [INFO] Booting worker with pid: 1349\n"
     ]
    }
   ],
   "source": [
    "command = \"mlflow models serve -m \" + \"/models/mlruns/0/bf2462293f184f838aba8ec5cb0b6f16/artifacts/model\" + \" -p 1230 -h 0.0.0.0\"\n",
    "print(command)\n",
    "os.system(command)"
   ]
  },
  {
   "cell_type": "code",
   "execution_count": null,
   "id": "e7b7a701",
   "metadata": {},
   "outputs": [],
   "source": []
  }
 ],
 "metadata": {
  "kernelspec": {
   "display_name": "Python 3 (ipykernel)",
   "language": "python",
   "name": "python3"
  },
  "language_info": {
   "codemirror_mode": {
    "name": "ipython",
    "version": 3
   },
   "file_extension": ".py",
   "mimetype": "text/x-python",
   "name": "python",
   "nbconvert_exporter": "python",
   "pygments_lexer": "ipython3",
   "version": "3.8.8"
  }
 },
 "nbformat": 4,
 "nbformat_minor": 5
}
