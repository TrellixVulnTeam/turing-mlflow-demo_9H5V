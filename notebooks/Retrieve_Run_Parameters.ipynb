{
 "cells": [
  {
   "cell_type": "code",
   "execution_count": 1,
   "id": "8939dd86",
   "metadata": {},
   "outputs": [],
   "source": [
    "import sqlite3"
   ]
  },
  {
   "cell_type": "code",
   "execution_count": 2,
   "id": "95a2618a",
   "metadata": {
    "scrolled": true
   },
   "outputs": [],
   "source": [
    "con = sqlite3.connect('mlruns.db')\n",
    "cur = con.cursor()"
   ]
  },
  {
   "cell_type": "markdown",
   "id": "a6170ba2",
   "metadata": {},
   "source": [
    "### Retrieve models with versions and parameters for each run"
   ]
  },
  {
   "cell_type": "code",
   "execution_count": 6,
   "id": "0bf87c6c",
   "metadata": {},
   "outputs": [
    {
     "name": "stdout",
     "output_type": "stream",
     "text": [
      "('ElasticnetWineModel', 4, '0456f2b4de8a4bbfaf9fe56cd066e52d', 'alpha', '1.0')\n",
      "('ElasticnetWineModel', 4, '0456f2b4de8a4bbfaf9fe56cd066e52d', 'l1_ratio', '0.2')\n",
      "('demo2_survival5_lgbm', 1, '1ccd4da3859245788280c6dc850b5faf', 'start_date', '1988-1-1')\n",
      "('demo2_survival5_lgbm', 1, '1ccd4da3859245788280c6dc850b5faf', 'end_date', '1991-12-31')\n",
      "('ElasticnetWineModel', 1, 'a02efd60662a44b29ca485f407e7739e', 'alpha', '0.5')\n",
      "('ElasticnetWineModel', 1, 'a02efd60662a44b29ca485f407e7739e', 'l1_ratio', '0.5')\n",
      "('ElasticnetWineModel', 2, 'bf2462293f184f838aba8ec5cb0b6f16', 'alpha', '0.42')\n",
      "('ElasticnetWineModel', 2, 'bf2462293f184f838aba8ec5cb0b6f16', 'l1_ratio', '0.1')\n",
      "('ElasticnetWineModel', 3, 'f64e5f1fa02a489dab62e42e0d030273', 'alpha', '0.5')\n",
      "('ElasticnetWineModel', 3, 'f64e5f1fa02a489dab62e42e0d030273', 'l1_ratio', '0.5')\n"
     ]
    }
   ],
   "source": [
    "for row in cur.execute('SELECT * FROM (SELECT m.name, m.version, m.run_id, p.key, p.value FROM params AS p ' +\n",
    "                       'INNER JOIN model_versions AS m ON m.run_id=p.run_uuid) ' +\n",
    "                       'ORDER BY run_id'):\n",
    "    print(row)\n"
   ]
  },
  {
   "cell_type": "markdown",
   "id": "f7a61aa6",
   "metadata": {},
   "source": [
    "### mlflow ER-diagram with selected columns marked"
   ]
  },
  {
   "cell_type": "markdown",
   "id": "70b52388",
   "metadata": {},
   "source": [
    "[](mlflow.png)"
   ]
  },
  {
   "cell_type": "markdown",
   "id": "48f06fa4",
   "metadata": {},
   "source": [
    "![](mlflow.png)"
   ]
  },
  {
   "cell_type": "code",
   "execution_count": null,
   "id": "eb4c045a",
   "metadata": {},
   "outputs": [],
   "source": []
  }
 ],
 "metadata": {
  "kernelspec": {
   "display_name": "Python 3 (ipykernel)",
   "language": "python",
   "name": "python3"
  },
  "language_info": {
   "codemirror_mode": {
    "name": "ipython",
    "version": 3
   },
   "file_extension": ".py",
   "mimetype": "text/x-python",
   "name": "python",
   "nbconvert_exporter": "python",
   "pygments_lexer": "ipython3",
   "version": "3.8.8"
  }
 },
 "nbformat": 4,
 "nbformat_minor": 5
}
